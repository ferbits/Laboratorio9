{
  "nbformat": 4,
  "nbformat_minor": 0,
  "metadata": {
    "colab": {
      "provenance": [],
      "mount_file_id": "1b219h8wxTQ5BrdTKeton0zlAigYp8q9S",
      "authorship_tag": "ABX9TyO6FSLayzIJ71EeQV3Vi4PO",
      "include_colab_link": true
    },
    "kernelspec": {
      "name": "python3",
      "display_name": "Python 3"
    },
    "language_info": {
      "name": "python"
    }
  },
  "cells": [
    {
      "cell_type": "markdown",
      "metadata": {
        "id": "view-in-github",
        "colab_type": "text"
      },
      "source": [
        "<a href=\"https://colab.research.google.com/github/ferbits/Laboratorio9/blob/main/Laboratorio_9.ipynb\" target=\"_parent\"><img src=\"https://colab.research.google.com/assets/colab-badge.svg\" alt=\"Open In Colab\"/></a>"
      ]
    },
    {
      "cell_type": "markdown",
      "source": [
        "#SESION 9-MIO"
      ],
      "metadata": {
        "id": "MH9niUDR_uQS"
      }
    },
    {
      "cell_type": "markdown",
      "source": [
        "Se tiene un conjunto de datos sobre empleados y se pide\n",
        "1.  Identificar y contar los valores faltantes en cada columna.\n",
        "2.  Verificar el formato de la columna 'Salario' para asegurar que todos los valores sean numéricos.\n",
        "3.  Validar y estandarizar el formato de la columna 'Fecha Ingreso' a YYYY-MM-DD."
      ],
      "metadata": {
        "id": "Q2n_jwzAAyHh"
      }
    },
    {
      "cell_type": "code",
      "source": [
        "import pandas as pd\n",
        "data={\n",
        "'Nombre':['Juan','Ana','Pedro','María','Luis','Ana'],\n",
        "'Edad':[28, 34, None, 45, 38, 34],\n",
        "'Salario':[3000, 4000, 'cinco mil', 4500, 4000, 5000],\n",
        "'Fecha Ingreso':['2021-01-15','2020/03/12','2022-07-01','2021/12/01','2021-05-20','12/03/2020']}\n",
        "df=pd.DataFrame(data)\n",
        "# Paso 1: Identificar y contar los valores faltantes en cada columna\n",
        "valores_faltantes = df.isnull().sum()\n",
        "valores_faltantes\n",
        "\n"
      ],
      "metadata": {
        "colab": {
          "base_uri": "https://localhost:8080/",
          "height": 209
        },
        "id": "KNvs5YMFA65w",
        "outputId": "ca816e14-28f1-448a-d577-9b0c765946b1"
      },
      "execution_count": null,
      "outputs": [
        {
          "output_type": "execute_result",
          "data": {
            "text/plain": [
              "Nombre           0\n",
              "Edad             1\n",
              "Salario          0\n",
              "Fecha Ingreso    0\n",
              "dtype: int64"
            ],
            "text/html": [
              "<div>\n",
              "<style scoped>\n",
              "    .dataframe tbody tr th:only-of-type {\n",
              "        vertical-align: middle;\n",
              "    }\n",
              "\n",
              "    .dataframe tbody tr th {\n",
              "        vertical-align: top;\n",
              "    }\n",
              "\n",
              "    .dataframe thead th {\n",
              "        text-align: right;\n",
              "    }\n",
              "</style>\n",
              "<table border=\"1\" class=\"dataframe\">\n",
              "  <thead>\n",
              "    <tr style=\"text-align: right;\">\n",
              "      <th></th>\n",
              "      <th>0</th>\n",
              "    </tr>\n",
              "  </thead>\n",
              "  <tbody>\n",
              "    <tr>\n",
              "      <th>Nombre</th>\n",
              "      <td>0</td>\n",
              "    </tr>\n",
              "    <tr>\n",
              "      <th>Edad</th>\n",
              "      <td>1</td>\n",
              "    </tr>\n",
              "    <tr>\n",
              "      <th>Salario</th>\n",
              "      <td>0</td>\n",
              "    </tr>\n",
              "    <tr>\n",
              "      <th>Fecha Ingreso</th>\n",
              "      <td>0</td>\n",
              "    </tr>\n",
              "  </tbody>\n",
              "</table>\n",
              "</div><br><label><b>dtype:</b> int64</label>"
            ]
          },
          "metadata": {},
          "execution_count": 23
        }
      ]
    },
    {
      "cell_type": "markdown",
      "source": [
        "Verificar el formato de la columna 'Salario' para asegurar que todos los valores sean numéricos."
      ],
      "metadata": {
        "id": "IynL0cJkjD3i"
      }
    },
    {
      "cell_type": "code",
      "source": [
        "import pandas as pd\n",
        "data={\n",
        "'Nombre':['Juan','Ana','Pedro','María','Luis','Ana'],\n",
        "'Edad':[28, 34, None, 45, 38, 34],\n",
        "'Salario':[3000, 4000, 'cinco mil', 4500, 4000, 5000],\n",
        "'Fecha Ingreso':['2021-01-15','2020/03/12','2022-07-01','2021/12/01','2021-05-20','12/03/2020']}\n",
        "df=pd.DataFrame(data)\n",
        "# Paso 2: Convertir 'Sueldo' a numérico, reemplazando valores no numéricos con NaN\n",
        "df['Salario'] = pd.to_numeric(df['Salario'], errors='coerce')\n",
        "print(\"\\nSueldos después de la conversión:\")\n",
        "print(df['Salario'])"
      ],
      "metadata": {
        "colab": {
          "base_uri": "https://localhost:8080/"
        },
        "id": "MVbq5WgvjCF5",
        "outputId": "82bc4e3b-97c3-49ed-a6b6-11ec198dcb67"
      },
      "execution_count": null,
      "outputs": [
        {
          "output_type": "stream",
          "name": "stdout",
          "text": [
            "\n",
            "Sueldos después de la conversión:\n",
            "0    3000.0\n",
            "1    4000.0\n",
            "2       NaN\n",
            "3    4500.0\n",
            "4    4000.0\n",
            "5    5000.0\n",
            "Name: Salario, dtype: float64\n"
          ]
        }
      ]
    },
    {
      "cell_type": "markdown",
      "source": [
        "Validar y estandarizar el formato de la columna 'Fecha Ingreso' a YYY-MM-DD."
      ],
      "metadata": {
        "id": "bWh8a76GktA6"
      }
    },
    {
      "cell_type": "code",
      "source": [
        "#CÓDIGO PARA VISUALIZAR EL FORMATO DE LA FECHA DE LA COLUMNA FECHA INGRESO\n",
        "df['Fecha Ingreso']"
      ],
      "metadata": {
        "colab": {
          "base_uri": "https://localhost:8080/",
          "height": 272
        },
        "id": "bWFoEYr_mPVc",
        "outputId": "0b0911e3-676c-467f-81c2-dbb82e40e5c5"
      },
      "execution_count": null,
      "outputs": [
        {
          "output_type": "execute_result",
          "data": {
            "text/plain": [
              "0    2021-01-15\n",
              "1    2020/03/12\n",
              "2    2022-07-01\n",
              "3    2021/12/01\n",
              "4    2021-05-20\n",
              "5    12/03/2020\n",
              "Name: Fecha Ingreso, dtype: object"
            ],
            "text/html": [
              "<div>\n",
              "<style scoped>\n",
              "    .dataframe tbody tr th:only-of-type {\n",
              "        vertical-align: middle;\n",
              "    }\n",
              "\n",
              "    .dataframe tbody tr th {\n",
              "        vertical-align: top;\n",
              "    }\n",
              "\n",
              "    .dataframe thead th {\n",
              "        text-align: right;\n",
              "    }\n",
              "</style>\n",
              "<table border=\"1\" class=\"dataframe\">\n",
              "  <thead>\n",
              "    <tr style=\"text-align: right;\">\n",
              "      <th></th>\n",
              "      <th>Fecha Ingreso</th>\n",
              "    </tr>\n",
              "  </thead>\n",
              "  <tbody>\n",
              "    <tr>\n",
              "      <th>0</th>\n",
              "      <td>2021-01-15</td>\n",
              "    </tr>\n",
              "    <tr>\n",
              "      <th>1</th>\n",
              "      <td>2020/03/12</td>\n",
              "    </tr>\n",
              "    <tr>\n",
              "      <th>2</th>\n",
              "      <td>2022-07-01</td>\n",
              "    </tr>\n",
              "    <tr>\n",
              "      <th>3</th>\n",
              "      <td>2021/12/01</td>\n",
              "    </tr>\n",
              "    <tr>\n",
              "      <th>4</th>\n",
              "      <td>2021-05-20</td>\n",
              "    </tr>\n",
              "    <tr>\n",
              "      <th>5</th>\n",
              "      <td>12/03/2020</td>\n",
              "    </tr>\n",
              "  </tbody>\n",
              "</table>\n",
              "</div><br><label><b>dtype:</b> object</label>"
            ]
          },
          "metadata": {},
          "execution_count": 29
        }
      ]
    },
    {
      "cell_type": "code",
      "source": [
        "\n",
        "import pandas as pd\n",
        "#Importamos la clase parser del modulo dateutil\n",
        "from dateutil import parser\n",
        "data={\n",
        "'Nombre':['Juan','Ana','Pedro','María','Luis','Ana'],\n",
        "'Edad':[28, 34, None, 45, 38, 34],\n",
        "'Salario':[3000, 4000, 'cinco mil', 4500, 4000, 5000],\n",
        "'Fecha Ingreso':['2021-01-15','2020/03/12','2022-07-01','2021/12/01','2021-05-20','12/03/2020']}\n",
        "df=pd.DataFrame(data)\n",
        "\n",
        "# Función para convertir fechas a formato YYYY-MM-DD\n",
        "def convertir_fecha(fecha):\n",
        "    try:\n",
        "        # Intentamos parsear la fecha y luego aplicamos el formato correcto\n",
        "        fecha_convertida = parser.parse(fecha)\n",
        "        return fecha_convertida.strftime('%Y-%m-%d')\n",
        "    except (parser.ParserError, TypeError, ValueError):\n",
        "        return None\n",
        "df['Fecha Ingreso'] = df['Fecha Ingreso'].apply(convertir_fecha)\n",
        "df['Fecha Ingreso']"
      ],
      "metadata": {
        "colab": {
          "base_uri": "https://localhost:8080/",
          "height": 272
        },
        "id": "tksbUJNwkxGj",
        "outputId": "b07ba6ec-29ce-4eca-c20f-e269bb6b2b54"
      },
      "execution_count": null,
      "outputs": [
        {
          "output_type": "execute_result",
          "data": {
            "text/plain": [
              "0    2021-01-15\n",
              "1    2020-03-12\n",
              "2    2022-07-01\n",
              "3    2021-12-01\n",
              "4    2021-05-20\n",
              "5    2020-12-03\n",
              "Name: Fecha Ingreso, dtype: object"
            ],
            "text/html": [
              "<div>\n",
              "<style scoped>\n",
              "    .dataframe tbody tr th:only-of-type {\n",
              "        vertical-align: middle;\n",
              "    }\n",
              "\n",
              "    .dataframe tbody tr th {\n",
              "        vertical-align: top;\n",
              "    }\n",
              "\n",
              "    .dataframe thead th {\n",
              "        text-align: right;\n",
              "    }\n",
              "</style>\n",
              "<table border=\"1\" class=\"dataframe\">\n",
              "  <thead>\n",
              "    <tr style=\"text-align: right;\">\n",
              "      <th></th>\n",
              "      <th>Fecha Ingreso</th>\n",
              "    </tr>\n",
              "  </thead>\n",
              "  <tbody>\n",
              "    <tr>\n",
              "      <th>0</th>\n",
              "      <td>2021-01-15</td>\n",
              "    </tr>\n",
              "    <tr>\n",
              "      <th>1</th>\n",
              "      <td>2020-03-12</td>\n",
              "    </tr>\n",
              "    <tr>\n",
              "      <th>2</th>\n",
              "      <td>2022-07-01</td>\n",
              "    </tr>\n",
              "    <tr>\n",
              "      <th>3</th>\n",
              "      <td>2021-12-01</td>\n",
              "    </tr>\n",
              "    <tr>\n",
              "      <th>4</th>\n",
              "      <td>2021-05-20</td>\n",
              "    </tr>\n",
              "    <tr>\n",
              "      <th>5</th>\n",
              "      <td>2020-12-03</td>\n",
              "    </tr>\n",
              "  </tbody>\n",
              "</table>\n",
              "</div><br><label><b>dtype:</b> object</label>"
            ]
          },
          "metadata": {},
          "execution_count": 50
        }
      ]
    },
    {
      "cell_type": "markdown",
      "source": [
        "Se requiere:\n",
        "1.  Identificar y contar los valores faltantes en cada columna.\n",
        "2.  Verificar el  formato de  la  columna  \"Salario\"  para  asegurarse  de  que todos  los valores sean numéricos.\n",
        "3.  Validar y estandarizar el formato de la columna \"Fecha Ingreso\" a YYYY-MM-DD.\n",
        "4.  Verificar que no haya valores faltantes en la columna \"Cargo\"."
      ],
      "metadata": {
        "id": "SGO9xqCBjMbf"
      }
    },
    {
      "cell_type": "markdown",
      "source": [
        "Identificar y contar los valores faltantes en cada columna."
      ],
      "metadata": {
        "id": "11LhYmRXuQm9"
      }
    },
    {
      "cell_type": "code",
      "source": [
        "#Identificar y contar los valores faltantes en cada columna.\n",
        "import pandas as pd\n",
        "data={\n",
        "'Nombre':['Juan', 'Ana', 'Pedro', 'María', 'Luis', 'Carla'],\n",
        "'Edad': [28, None, 40, 45, 38, 34],\n",
        "'Salario': [3000, 4000, 4500, 'cuatro mil', 5000, 4000],\n",
        "'Cargo': ['Analista', 'Gerente', 'Desarrollador', 'Gerente', 'Analista', None ],\n",
        "'Fecha Ingreso': ['2021-01-15', '2020/03/12', '2022-07-01', '2021/12/01', None, '2020-03-12']}\n",
        "df=pd.DataFrame(data)\n",
        "# Paso 1: Identificar y contar los valores faltantes en cada columna\n",
        "valores_faltantes = df.isnull().sum()\n",
        "print(\"Valores faltantes por columna:\")\n",
        "print(valores_faltantes)\n"
      ],
      "metadata": {
        "colab": {
          "base_uri": "https://localhost:8080/"
        },
        "id": "QlG-O8VptDCD",
        "outputId": "8415d478-83c8-4559-e5e4-a3fb892dc151"
      },
      "execution_count": null,
      "outputs": [
        {
          "output_type": "stream",
          "name": "stdout",
          "text": [
            "Valores faltantes por columna:\n",
            "Nombre           0\n",
            "Edad             1\n",
            "Salario          0\n",
            "Cargo            1\n",
            "Fecha Ingreso    1\n",
            "dtype: int64\n"
          ]
        }
      ]
    },
    {
      "cell_type": "markdown",
      "source": [
        "Verificar el formato de la columna \"Salario\" para asegurarse de que todos los valores sean numéricos."
      ],
      "metadata": {
        "id": "nSEIrq0buLPT"
      }
    },
    {
      "cell_type": "code",
      "source": [
        "#Identificar y contar los valores faltantes en cada columna.\n",
        "import pandas as pd\n",
        "data={'Nombre':['Juan', 'Ana', 'Pedro', 'María', 'Luis', 'Carla'],\n",
        "'Edad': [28, None, 40, 45, 38, 34],\n",
        "'Salario': [3000, 4000, 4500, 'cuatro mil', 5000, 4000],\n",
        "'Cargo': ['Analista', 'Gerente', 'Desarrollador', 'Gerente', 'Analista', None ],\n",
        "'Fecha Ingreso': ['2021-01-15', '2020/03/12', '2022-07-01', '2021/12/01', None, '2020-03-12']}\n",
        "df=pd.DataFrame(data)\n",
        "df=pd.DataFrame(data)\n",
        "# Paso 2: Convertir 'Sueldo' a numérico, reemplazando valores no numéricos con NaN\n",
        "df['Salario'] = pd.to_numeric(df['Salario'], errors='coerce')\n",
        "print(\"\\nSueldos después de la conversión:\")\n",
        "print(df['Salario'])"
      ],
      "metadata": {
        "colab": {
          "base_uri": "https://localhost:8080/"
        },
        "id": "dHy8ZE_MuMEb",
        "outputId": "901e4d73-302d-40d5-aaf3-1b77cfb4fe9a"
      },
      "execution_count": null,
      "outputs": [
        {
          "output_type": "stream",
          "name": "stdout",
          "text": [
            "\n",
            "Sueldos después de la conversión:\n",
            "0    3000.0\n",
            "1    4000.0\n",
            "2    4500.0\n",
            "3       NaN\n",
            "4    5000.0\n",
            "5    4000.0\n",
            "Name: Salario, dtype: float64\n"
          ]
        }
      ]
    },
    {
      "cell_type": "markdown",
      "source": [
        "Validar y estandarizar el formato de la columna \"Fecha Ingreso\" a YYYY-MM-DD."
      ],
      "metadata": {
        "id": "1Ym0kaPk_1Xc"
      }
    },
    {
      "cell_type": "code",
      "source": [
        "import pandas as pd\n",
        "#Importamos la clase parser del modulo dateutil\n",
        "from dateutil import parser\n",
        "data={\n",
        "'Nombre': ['Juan', 'Ana', 'Pedro', 'María', 'Luis', 'Carla'],\n",
        "'Edad': [28, None, 40, 45, 38, 34],\n",
        "'Salario':[3000, 4000, 4500, 'cuatro mil', 5000, 4000],\n",
        "'Cargo':['Analista', 'Gerente', 'Desarrollador', 'Gerente', 'Analista', None ],\n",
        "'Fecha Ingreso': ['2021-01-15', '2020/03/12', '2022-07-01', '2021/12/01', None, '2020-03-12']}\n",
        "df=pd.DataFrame(data)\n",
        "\n",
        "# Función para convertir fechas a formato YYYY-MM-DD\n",
        "def convertir_fecha(fecha):\n",
        "    try:\n",
        "        # Intentamos parsear la fecha y luego aplicamos el formato correcto\n",
        "        fecha_convertida = parser.parse(fecha)\n",
        "        return fecha_convertida.strftime('%Y-%m-%d')\n",
        "    except (parser.ParserError, TypeError, ValueError):\n",
        "        return None\n",
        "df['Fecha Ingreso'] = df['Fecha Ingreso'].apply(convertir_fecha)\n",
        "df['Fecha Ingreso']"
      ],
      "metadata": {
        "colab": {
          "base_uri": "https://localhost:8080/",
          "height": 272
        },
        "id": "lkSyJuIFup96",
        "outputId": "61aaea50-8617-481f-9678-ac6c9e647826"
      },
      "execution_count": null,
      "outputs": [
        {
          "output_type": "execute_result",
          "data": {
            "text/plain": [
              "0    2021-01-15\n",
              "1    2020-03-12\n",
              "2    2022-07-01\n",
              "3    2021-12-01\n",
              "4          None\n",
              "5    2020-03-12\n",
              "Name: Fecha Ingreso, dtype: object"
            ],
            "text/html": [
              "<div>\n",
              "<style scoped>\n",
              "    .dataframe tbody tr th:only-of-type {\n",
              "        vertical-align: middle;\n",
              "    }\n",
              "\n",
              "    .dataframe tbody tr th {\n",
              "        vertical-align: top;\n",
              "    }\n",
              "\n",
              "    .dataframe thead th {\n",
              "        text-align: right;\n",
              "    }\n",
              "</style>\n",
              "<table border=\"1\" class=\"dataframe\">\n",
              "  <thead>\n",
              "    <tr style=\"text-align: right;\">\n",
              "      <th></th>\n",
              "      <th>Fecha Ingreso</th>\n",
              "    </tr>\n",
              "  </thead>\n",
              "  <tbody>\n",
              "    <tr>\n",
              "      <th>0</th>\n",
              "      <td>2021-01-15</td>\n",
              "    </tr>\n",
              "    <tr>\n",
              "      <th>1</th>\n",
              "      <td>2020-03-12</td>\n",
              "    </tr>\n",
              "    <tr>\n",
              "      <th>2</th>\n",
              "      <td>2022-07-01</td>\n",
              "    </tr>\n",
              "    <tr>\n",
              "      <th>3</th>\n",
              "      <td>2021-12-01</td>\n",
              "    </tr>\n",
              "    <tr>\n",
              "      <th>4</th>\n",
              "      <td>None</td>\n",
              "    </tr>\n",
              "    <tr>\n",
              "      <th>5</th>\n",
              "      <td>2020-03-12</td>\n",
              "    </tr>\n",
              "  </tbody>\n",
              "</table>\n",
              "</div><br><label><b>dtype:</b> object</label>"
            ]
          },
          "metadata": {},
          "execution_count": 56
        }
      ]
    },
    {
      "cell_type": "markdown",
      "source": [
        "Verificar que no haya valores faltantes en la columna \"Cargo\"."
      ],
      "metadata": {
        "id": "_6FGMgEPB4Bo"
      }
    },
    {
      "cell_type": "code",
      "source": [
        "import pandas as pd\n",
        "#Importamos la clase parser del modulo dateutil\n",
        "data={\n",
        "'Nombre': ['Juan', 'Ana', 'Pedro', 'María', 'Luis', 'Carla'],\n",
        "'Edad': [28, None, 40, 45, 38, 34],\n",
        "'Salario':[3000, 4000, 4500, 'cuatro mil', 5000, 4000],\n",
        "'Cargo':['Analista', 'Gerente', 'Desarrollador', 'Gerente', 'Analista', None ],\n",
        "'Fecha Ingreso': ['2021-01-15', '2020/03/12', '2022-07-01', '2021/12/01', None, '2020-03-12']}\n",
        "df=pd.DataFrame(data)\n",
        "# Paso 4: Verificar que no haya valores faltantes en la columna 'Cargo'\n",
        "valores_faltantes_cargo = df['Cargo'].isnull().sum()\n",
        "print(\"\\nValores faltantes en la columna 'Cargo':\")\n",
        "print(valores_faltantes_cargo)"
      ],
      "metadata": {
        "colab": {
          "base_uri": "https://localhost:8080/"
        },
        "id": "YKSCh-18vKXJ",
        "outputId": "447813d0-f10a-47d4-9130-674728827d4d"
      },
      "execution_count": null,
      "outputs": [
        {
          "output_type": "stream",
          "name": "stdout",
          "text": [
            "\n",
            "Valores faltantes en la columna 'Cargo':\n",
            "1\n"
          ]
        }
      ]
    },
    {
      "cell_type": "markdown",
      "source": [
        "#PARTE 2 DEL LABORATORIO 9"
      ],
      "metadata": {
        "id": "qFZz-x9TwkDa"
      }
    },
    {
      "cell_type": "markdown",
      "source": [
        "Se tiene una lista de productos con los respectivos precios y se necesita validar que ningún precio sea negativo o nulo."
      ],
      "metadata": {
        "id": "TomV1p6-wpCX"
      }
    },
    {
      "cell_type": "markdown",
      "source": [
        "1.  Crear un DataFrame con productos y precios.\n",
        "2.  Producto: Producto A, Producto B,Producto C,Producto D.\n",
        "3.  Precio:150, -25, 100, None.  \n",
        "4.  Validar que todos los precios sean mayores o iguales a cero y no nulos.\n",
        "5.  Mostrar los productos con precios inválidos."
      ],
      "metadata": {
        "id": "z_I_mndTxIt9"
      }
    },
    {
      "cell_type": "markdown",
      "source": [
        "*Validar que todos los precios sean mayores o iguales a cero y no nulos.\n",
        "*Mostrar los productos con precios inválidos.\n",
        "\n"
      ],
      "metadata": {
        "id": "KkNo4rBLz924"
      }
    },
    {
      "cell_type": "code",
      "source": [
        "#Construcción del DataFrame con los productos.\n",
        "import pandas as pd\n",
        "data={'Producto':['Producto A', 'Producto B','Producto C','Producto D'],\n",
        "      'Precio':[150, -25, 100, None]}\n",
        "df=pd.DataFrame(data)\n",
        "precios_incorrectos = df[(df['Precio'].isnull()) | (df['Precio'] < 0)]\n",
        "print(\"\\nPrecios incorrectos:\")\n",
        "print(precios_incorrectos)"
      ],
      "metadata": {
        "colab": {
          "base_uri": "https://localhost:8080/"
        },
        "id": "3wVkPKNGxH-L",
        "outputId": "de489664-26c9-42ad-a8c2-db98eee6badd"
      },
      "execution_count": null,
      "outputs": [
        {
          "output_type": "stream",
          "name": "stdout",
          "text": [
            "\n",
            "Precios incorrectos:\n",
            "     Producto  Precio\n",
            "1  Producto B   -25.0\n",
            "3  Producto D     NaN\n"
          ]
        }
      ]
    },
    {
      "cell_type": "markdown",
      "source": [
        "Crear un DataFrame con información de clientes.\n",
        "Verificar si hay duplicados en la columna de ID del cliente.\n",
        "Mostrar los registros duplicados."
      ],
      "metadata": {
        "id": "ggfUUtQy2Vkf"
      }
    },
    {
      "cell_type": "code",
      "source": [
        "#Construcción del DataFrame Clientes y visualización de valores duplicados.\n",
        "import pandas as pd\n",
        "data={\n",
        "'ID_Cliente':[1, 2, 3, 2, 4],\n",
        "'Nombre':['Ana', 'Luis', 'María', 'Luis', 'Carlos']}\n",
        "df=pd.DataFrame(data)\n",
        "duplicados_id = df[df.duplicated('ID_Cliente')]\n",
        "#duplicados_nom = df[df.duplicated('Nombre')]\n",
        "print(duplicados_id)\n",
        "#print(duplicados_nom)"
      ],
      "metadata": {
        "colab": {
          "base_uri": "https://localhost:8080/"
        },
        "id": "ZrF3NEEb07Uw",
        "outputId": "f196fdbe-6b77-42db-a804-eccb487a0ded"
      },
      "execution_count": null,
      "outputs": [
        {
          "output_type": "stream",
          "name": "stdout",
          "text": [
            "   ID_Cliente Nombre\n",
            "3           2   Luis\n"
          ]
        }
      ]
    },
    {
      "cell_type": "markdown",
      "source": [
        "Crear una cadena con datos sensibles (un número de tarjeta 1234-5678-9101-1121).\n",
        "Encriptar esos datos utilizando una clave generada.\n",
        "Desencriptar los datos y mostrar ambos (encriptado y desencriptado)."
      ],
      "metadata": {
        "id": "aQmD13ca21cr"
      }
    },
    {
      "cell_type": "code",
      "source": [
        "#Crear una cadena con datos sensibles (un número de tarjeta 1234-5678-9101-1121).\n",
        "#Encriptar esos datos utilizando una clave generada.\n",
        "from cryptography.fernet import Fernet\n",
        "mi_llave = Fernet.generate_key()\n",
        "cipher_suite = Fernet(mi_llave)\n",
        "\n",
        "datos_sensibles = \"1234-5678-9101-1121\".encode()\n",
        "datos_encriptados = cipher_suite.encrypt(datos_sensibles)\n",
        "datos_desencriptados = cipher_suite.decrypt(datos_encriptados)\n",
        "\n",
        "print(\"Datos Encriptados:\", datos_encriptados)\n",
        "print(\"Datos Desencriptados:\",\n",
        "datos_desencriptados.decode())"
      ],
      "metadata": {
        "colab": {
          "base_uri": "https://localhost:8080/"
        },
        "id": "j7wHLpSwB6Ln",
        "outputId": "c1c9418b-8582-4381-bb0e-64894ddac3c4"
      },
      "execution_count": null,
      "outputs": [
        {
          "output_type": "stream",
          "name": "stdout",
          "text": [
            "Datos Encriptados: b'gAAAAABnNXk0lsiWyZRzkzf7DwZ5YKCynwWEW_V2CIgiFCKDn6biAQfdYULukCZw2FPk8ZLDFKNl0gBTw8D6u_aHzyRjfAYc65NteEjPciAZa1-fatkkrO4='\n",
            "Datos Desencriptados: 1234-5678-9101-1121\n"
          ]
        }
      ]
    }
  ]
}